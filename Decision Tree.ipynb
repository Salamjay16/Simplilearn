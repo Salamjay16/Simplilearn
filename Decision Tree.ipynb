{
 "cells": [
  {
   "cell_type": "markdown",
   "id": "fe76a6da",
   "metadata": {},
   "source": [
    "# Decision Tree\n",
    "\n",
    "Is a tree-shaped diagram used to determine a course of action.Each branch of the tree represents a possible decision, occurences or reaction. for example: How do i identify a random vegetable from a shopping bag?\n",
    "\n",
    "# Problems that Decision tree can solve\n",
    "    - Classification            - Regression\n",
    "    \n",
    "Classification:A classification-tree will determine a set of logical if-then conditions to classify problems. for example, discriminating between three types of flowers based on certain features\n",
    "\n",
    "Regression: Regression-tree is used when the target variable is numerical or continuous in nature.We fit a regression model to the target variable using each of the independent variables.Each split is made based on the sum of the squared error\n",
    "\n",
    "# Advantages of Decision Tree\n",
    "- simple to understand, interpret and visualize\n",
    "- little effort required for data preparation \n",
    "- can handle both numerical and categorical data\n",
    "- Non-linear parameters don't affect its performance\n",
    "\n",
    "# Disadvantages of Decision Tree\n",
    "- OVERFITTING:overfitting occurs when the algorithm captures noise in the data\n",
    "- HIGH VARIANCE: the model can get unstable due to small variation in data\n",
    "- LOW BIASED TREE: a highly complicated Decision tree tends to have a low bias which makes it difficult for the model to work with new data\n",
    "\n",
    "# Important terms in Decision Tree\n",
    "- Entropy:is the measure of randomness or unpredictability in dataset.e.g a dataset of group of animals has a very High entropy.\n",
    "\n",
    "- Information Gain:is the measure of decrease in entropy after the dataset is split. so as we start splitting the above example dataset into sub groups. Gain = E1 - E2\n",
    "\n",
    "- Leaf Node: carries the classification or the decision.\n",
    "\n",
    "- Root Node: is the top most decision mode \n",
    "\n",
    "EXAMPLE:  using the above example but since is has a high entropy; a dataset containing a group of animals (4-different type of animal). Since you really can't pick out what kind of animal just by looking at the 4 animals. so as we start splitting them into sub groups \n",
    "\n",
    "                Color == yellow? -- Root Node            High Entropy[E1]\n",
    "                        /   \\                                 | after split\n",
    "       True [Height = 10]    False[Height<10]            Lower Entropy[E2]\n",
    "                 / \\                     / \\                  |\n",
    "    True[Giraffe]  False[Tiger]   True[cat]  False[Elephant]  Gain = E1 - E2\n",
    "                                                  |\n",
    "                                               Leaf Node\n",
    "                                               \n",
    "                                               \n",
    "# How does Decision Tree works\n",
    "example: an hunter wondering what kind of animal he'll bw able to get(kill) in the jungle(forest) today or a photographer going for an adventure to capture different kinds on animals on screen \n",
    "\n",
    "Problem statement: to classify the different types of animals based on their features using decision tree. the dataset is looking quite messy and the entropy is high in this case"
   ]
  },
  {
   "cell_type": "code",
   "execution_count": 11,
   "id": "99ce6e9f",
   "metadata": {},
   "outputs": [],
   "source": [
    "import pandas as pd\n",
    "import numpy as np\n",
    "from sklearn.model_selection import train_test_split\n",
    "from sklearn.tree import DecisionTreeClassifier\n",
    "from sklearn.metrics import accuracy_score\n",
    "from sklearn import tree"
   ]
  },
  {
   "cell_type": "code",
   "execution_count": 14,
   "id": "0e2723ba",
   "metadata": {},
   "outputs": [
    {
     "name": "stdout",
     "output_type": "stream",
     "text": [
      "Dataset: \n"
     ]
    },
    {
     "data": {
      "text/html": [
       "<div>\n",
       "<style scoped>\n",
       "    .dataframe tbody tr th:only-of-type {\n",
       "        vertical-align: middle;\n",
       "    }\n",
       "\n",
       "    .dataframe tbody tr th {\n",
       "        vertical-align: top;\n",
       "    }\n",
       "\n",
       "    .dataframe thead th {\n",
       "        text-align: right;\n",
       "    }\n",
       "</style>\n",
       "<table border=\"1\" class=\"dataframe\">\n",
       "  <thead>\n",
       "    <tr style=\"text-align: right;\">\n",
       "      <th></th>\n",
       "      <th>Result</th>\n",
       "      <th>Initial payment</th>\n",
       "      <th>Last payment</th>\n",
       "      <th>Credit Score</th>\n",
       "      <th>House Number</th>\n",
       "    </tr>\n",
       "  </thead>\n",
       "  <tbody>\n",
       "    <tr>\n",
       "      <th>0</th>\n",
       "      <td>yes</td>\n",
       "      <td>201</td>\n",
       "      <td>10018</td>\n",
       "      <td>250</td>\n",
       "      <td>3046</td>\n",
       "    </tr>\n",
       "    <tr>\n",
       "      <th>1</th>\n",
       "      <td>yes</td>\n",
       "      <td>205</td>\n",
       "      <td>10016</td>\n",
       "      <td>395</td>\n",
       "      <td>3044</td>\n",
       "    </tr>\n",
       "    <tr>\n",
       "      <th>2</th>\n",
       "      <td>yes</td>\n",
       "      <td>257</td>\n",
       "      <td>10129</td>\n",
       "      <td>109</td>\n",
       "      <td>3251</td>\n",
       "    </tr>\n",
       "    <tr>\n",
       "      <th>3</th>\n",
       "      <td>yes</td>\n",
       "      <td>246</td>\n",
       "      <td>10064</td>\n",
       "      <td>324</td>\n",
       "      <td>3137</td>\n",
       "    </tr>\n",
       "    <tr>\n",
       "      <th>4</th>\n",
       "      <td>yes</td>\n",
       "      <td>117</td>\n",
       "      <td>10115</td>\n",
       "      <td>496</td>\n",
       "      <td>3094</td>\n",
       "    </tr>\n",
       "  </tbody>\n",
       "</table>\n",
       "</div>"
      ],
      "text/plain": [
       "  Result  Initial payment  Last payment  Credit Score  House Number\n",
       "0    yes              201         10018           250          3046\n",
       "1    yes              205         10016           395          3044\n",
       "2    yes              257         10129           109          3251\n",
       "3    yes              246         10064           324          3137\n",
       "4    yes              117         10115           496          3094"
      ]
     },
     "execution_count": 14,
     "metadata": {},
     "output_type": "execute_result"
    }
   ],
   "source": [
    "balance_data = pd.read_csv('C:/Users/USER/Downloads/Decision_Tree_dataset.csv', sep = ',', header = 0)\n",
    "print(\"Dataset: \")\n",
    "balance_data.head()"
   ]
  },
  {
   "cell_type": "code",
   "execution_count": 15,
   "id": "5fbdc65f",
   "metadata": {},
   "outputs": [
    {
     "name": "stdout",
     "output_type": "stream",
     "text": [
      "Dataset Length is:  1000\n",
      "Dataset Shape is:  (1000, 5)\n"
     ]
    }
   ],
   "source": [
    "print(\"Dataset Length is: \", len(balance_data) )\n",
    "print(\"Dataset Shape is: \", balance_data.shape )"
   ]
  },
  {
   "cell_type": "markdown",
   "id": "e7ed7757",
   "metadata": {},
   "source": [
    "Digging into the Dataset using Decision Tree by training and building\n"
   ]
  },
  {
   "cell_type": "code",
   "execution_count": 29,
   "id": "a4d8d455",
   "metadata": {},
   "outputs": [
    {
     "data": {
      "text/html": [
       "<style>#sk-container-id-3 {color: black;background-color: white;}#sk-container-id-3 pre{padding: 0;}#sk-container-id-3 div.sk-toggleable {background-color: white;}#sk-container-id-3 label.sk-toggleable__label {cursor: pointer;display: block;width: 100%;margin-bottom: 0;padding: 0.3em;box-sizing: border-box;text-align: center;}#sk-container-id-3 label.sk-toggleable__label-arrow:before {content: \"▸\";float: left;margin-right: 0.25em;color: #696969;}#sk-container-id-3 label.sk-toggleable__label-arrow:hover:before {color: black;}#sk-container-id-3 div.sk-estimator:hover label.sk-toggleable__label-arrow:before {color: black;}#sk-container-id-3 div.sk-toggleable__content {max-height: 0;max-width: 0;overflow: hidden;text-align: left;background-color: #f0f8ff;}#sk-container-id-3 div.sk-toggleable__content pre {margin: 0.2em;color: black;border-radius: 0.25em;background-color: #f0f8ff;}#sk-container-id-3 input.sk-toggleable__control:checked~div.sk-toggleable__content {max-height: 200px;max-width: 100%;overflow: auto;}#sk-container-id-3 input.sk-toggleable__control:checked~label.sk-toggleable__label-arrow:before {content: \"▾\";}#sk-container-id-3 div.sk-estimator input.sk-toggleable__control:checked~label.sk-toggleable__label {background-color: #d4ebff;}#sk-container-id-3 div.sk-label input.sk-toggleable__control:checked~label.sk-toggleable__label {background-color: #d4ebff;}#sk-container-id-3 input.sk-hidden--visually {border: 0;clip: rect(1px 1px 1px 1px);clip: rect(1px, 1px, 1px, 1px);height: 1px;margin: -1px;overflow: hidden;padding: 0;position: absolute;width: 1px;}#sk-container-id-3 div.sk-estimator {font-family: monospace;background-color: #f0f8ff;border: 1px dotted black;border-radius: 0.25em;box-sizing: border-box;margin-bottom: 0.5em;}#sk-container-id-3 div.sk-estimator:hover {background-color: #d4ebff;}#sk-container-id-3 div.sk-parallel-item::after {content: \"\";width: 100%;border-bottom: 1px solid gray;flex-grow: 1;}#sk-container-id-3 div.sk-label:hover label.sk-toggleable__label {background-color: #d4ebff;}#sk-container-id-3 div.sk-serial::before {content: \"\";position: absolute;border-left: 1px solid gray;box-sizing: border-box;top: 0;bottom: 0;left: 50%;z-index: 0;}#sk-container-id-3 div.sk-serial {display: flex;flex-direction: column;align-items: center;background-color: white;padding-right: 0.2em;padding-left: 0.2em;position: relative;}#sk-container-id-3 div.sk-item {position: relative;z-index: 1;}#sk-container-id-3 div.sk-parallel {display: flex;align-items: stretch;justify-content: center;background-color: white;position: relative;}#sk-container-id-3 div.sk-item::before, #sk-container-id-3 div.sk-parallel-item::before {content: \"\";position: absolute;border-left: 1px solid gray;box-sizing: border-box;top: 0;bottom: 0;left: 50%;z-index: -1;}#sk-container-id-3 div.sk-parallel-item {display: flex;flex-direction: column;z-index: 1;position: relative;background-color: white;}#sk-container-id-3 div.sk-parallel-item:first-child::after {align-self: flex-end;width: 50%;}#sk-container-id-3 div.sk-parallel-item:last-child::after {align-self: flex-start;width: 50%;}#sk-container-id-3 div.sk-parallel-item:only-child::after {width: 0;}#sk-container-id-3 div.sk-dashed-wrapped {border: 1px dashed gray;margin: 0 0.4em 0.5em 0.4em;box-sizing: border-box;padding-bottom: 0.4em;background-color: white;}#sk-container-id-3 div.sk-label label {font-family: monospace;font-weight: bold;display: inline-block;line-height: 1.2em;}#sk-container-id-3 div.sk-label-container {text-align: center;}#sk-container-id-3 div.sk-container {/* jupyter's `normalize.less` sets `[hidden] { display: none; }` but bootstrap.min.css set `[hidden] { display: none !important; }` so we also need the `!important` here to be able to override the default hidden behavior on the sphinx rendered scikit-learn.org. See: https://github.com/scikit-learn/scikit-learn/issues/21755 */display: inline-block !important;position: relative;}#sk-container-id-3 div.sk-text-repr-fallback {display: none;}</style><div id=\"sk-container-id-3\" class=\"sk-top-container\"><div class=\"sk-text-repr-fallback\"><pre>DecisionTreeClassifier(criterion=&#x27;entropy&#x27;, max_depth=3, min_samples_leaf=5,\n",
       "                       random_state=100)</pre><b>In a Jupyter environment, please rerun this cell to show the HTML representation or trust the notebook. <br />On GitHub, the HTML representation is unable to render, please try loading this page with nbviewer.org.</b></div><div class=\"sk-container\" hidden><div class=\"sk-item\"><div class=\"sk-estimator sk-toggleable\"><input class=\"sk-toggleable__control sk-hidden--visually\" id=\"sk-estimator-id-3\" type=\"checkbox\" checked><label for=\"sk-estimator-id-3\" class=\"sk-toggleable__label sk-toggleable__label-arrow\">DecisionTreeClassifier</label><div class=\"sk-toggleable__content\"><pre>DecisionTreeClassifier(criterion=&#x27;entropy&#x27;, max_depth=3, min_samples_leaf=5,\n",
       "                       random_state=100)</pre></div></div></div></div></div>"
      ],
      "text/plain": [
       "DecisionTreeClassifier(criterion='entropy', max_depth=3, min_samples_leaf=5,\n",
       "                       random_state=100)"
      ]
     },
     "execution_count": 29,
     "metadata": {},
     "output_type": "execute_result"
    }
   ],
   "source": [
    "# Seperating the Target variable\n",
    "X = balance_data.values[:, 1:5]\n",
    "y = balance_data.values[:, 0]\n",
    "\n",
    "# Splitting Dataset into Test and Train\n",
    "X_train, X_test, y_train, y_test = train_test_split(X, y, test_size = 0.3, random_state = 100)\n",
    "\n",
    "# Function to perform training with Entropy\n",
    "clf_entropy = DecisionTreeClassifier(criterion = \"entropy\", random_state = 100, max_depth = 3, min_samples_leaf = 5)\n",
    "clf_entropy.fit(X_train, y_train) #clf = classifier"
   ]
  },
  {
   "cell_type": "code",
   "execution_count": 31,
   "id": "7320ad4c",
   "metadata": {},
   "outputs": [
    {
     "name": "stdout",
     "output_type": "stream",
     "text": [
      "['yes' 'yes' 'No' 'yes' 'No' 'yes' 'yes' 'yes' 'No' 'No' 'No' 'No' 'yes'\n",
      " 'No' 'No' 'yes' 'yes' 'No' 'yes' 'No' 'No' 'yes' 'No' 'yes' 'yes' 'No'\n",
      " 'No' 'yes' 'No' 'No' 'No' 'yes' 'yes' 'yes' 'yes' 'No' 'No' 'No' 'yes'\n",
      " 'No' 'yes' 'yes' 'yes' 'No' 'No' 'yes' 'yes' 'yes' 'No' 'No' 'yes' 'No'\n",
      " 'yes' 'yes' 'yes' 'yes' 'No' 'yes' 'No' 'yes' 'yes' 'No' 'yes' 'yes' 'No'\n",
      " 'yes' 'yes' 'yes' 'No' 'No' 'No' 'No' 'No' 'yes' 'No' 'yes' 'yes' 'No'\n",
      " 'yes' 'No' 'No' 'No' 'No' 'yes' 'No' 'yes' 'No' 'yes' 'yes' 'No' 'yes'\n",
      " 'yes' 'yes' 'yes' 'yes' 'No' 'yes' 'yes' 'yes' 'yes' 'No' 'No' 'yes'\n",
      " 'yes' 'No' 'yes' 'yes' 'yes' 'No' 'yes' 'yes' 'yes' 'yes' 'No' 'No' 'yes'\n",
      " 'yes' 'yes' 'No' 'No' 'No' 'No' 'yes' 'yes' 'No' 'yes' 'yes' 'yes' 'No'\n",
      " 'No' 'yes' 'yes' 'No' 'yes' 'yes' 'yes' 'No' 'yes' 'yes' 'No' 'No' 'yes'\n",
      " 'yes' 'yes' 'No' 'yes' 'yes' 'yes' 'yes' 'No' 'yes' 'No' 'No' 'No' 'No'\n",
      " 'yes' 'No' 'No' 'No' 'yes' 'yes' 'No' 'yes' 'yes' 'No' 'yes' 'No' 'yes'\n",
      " 'No' 'No' 'yes' 'yes' 'No' 'yes' 'No' 'yes' 'yes' 'No' 'No' 'No' 'No'\n",
      " 'No' 'yes' 'No' 'No' 'yes' 'yes' 'yes' 'yes' 'yes' 'No' 'yes' 'No' 'yes'\n",
      " 'No' 'No' 'No' 'yes' 'yes' 'No' 'No' 'No' 'yes' 'yes' 'No' 'No' 'yes'\n",
      " 'yes' 'No' 'No' 'yes' 'yes' 'yes' 'yes' 'yes' 'yes' 'yes' 'yes' 'yes'\n",
      " 'No' 'yes' 'yes' 'No' 'No' 'yes' 'No' 'yes' 'yes' 'No' 'No' 'yes' 'No'\n",
      " 'yes' 'yes' 'yes' 'yes' 'No' 'No' 'No' 'No' 'yes' 'yes' 'No' 'yes' 'yes'\n",
      " 'No' 'yes' 'No' 'No' 'No' 'No' 'yes' 'No' 'No' 'No' 'No' 'No' 'No' 'No'\n",
      " 'yes' 'yes' 'yes' 'yes' 'yes' 'yes' 'No' 'No' 'No' 'No' 'yes' 'No' 'yes'\n",
      " 'yes' 'yes' 'No' 'No' 'No' 'No' 'yes' 'No' 'yes' 'No' 'No' 'No' 'yes'\n",
      " 'yes' 'No' 'yes' 'yes' 'yes' 'No' 'No' 'yes' 'No' 'yes' 'yes' 'No' 'No'\n",
      " 'yes' 'yes']\n"
     ]
    }
   ],
   "source": [
    "# Function to make predictions\n",
    "y_pred_en = clf_entropy.predict(X_test)\n",
    "print(y_pred_en)"
   ]
  },
  {
   "cell_type": "code",
   "execution_count": 34,
   "id": "c166056b",
   "metadata": {},
   "outputs": [
    {
     "name": "stdout",
     "output_type": "stream",
     "text": [
      "Accuracy is: 93.66666666666667\n"
     ]
    }
   ],
   "source": [
    "# Checking Accuracy\n",
    "print(\"Accuracy is:\", accuracy_score(y_test, y_pred_en)*100)"
   ]
  },
  {
   "cell_type": "code",
   "execution_count": 35,
   "id": "153a6202",
   "metadata": {},
   "outputs": [],
   "source": [
    "# So, we have created a model that uses decision tree algorithm to predict whether a customer will repay the loan or not\n",
    "# The bank will now use this model to decide whether it should approve the loan request from a particular customer or not"
   ]
  }
 ],
 "metadata": {
  "kernelspec": {
   "display_name": "Python 3 (ipykernel)",
   "language": "python",
   "name": "python3"
  },
  "language_info": {
   "codemirror_mode": {
    "name": "ipython",
    "version": 3
   },
   "file_extension": ".py",
   "mimetype": "text/x-python",
   "name": "python",
   "nbconvert_exporter": "python",
   "pygments_lexer": "ipython3",
   "version": "3.9.7"
  }
 },
 "nbformat": 4,
 "nbformat_minor": 5
}

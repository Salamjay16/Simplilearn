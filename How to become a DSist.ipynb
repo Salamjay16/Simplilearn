{
 "cells": [
  {
   "cell_type": "markdown",
   "id": "5a978e90",
   "metadata": {},
   "source": [
    " - A brief introduction to Data science\n",
    " - Laying the groundwork for a data science career\n",
    " - A short note on \"Who's a Data Scientist?\"\n",
    " - In-demand technical skills for data scientist\n",
    " - Salary of Data Scientists\n",
    " - The future of Data science and Data scientist\n",
    " "
   ]
  },
  {
   "cell_type": "markdown",
   "id": "3f63663c",
   "metadata": {},
   "source": [
    "# A brief introduction to Data science\n",
    "\n",
    " - Data science is a constantly evolving field\n",
    " - It is a domain of study that deals with vast volumes of data using modern tools and techniques to find patterns, derive meaningful information, and make business decisions.\n",
    " - From Wikipedia, Data science is a indivisibly discipline using computation methods, processes, algorithms and systems to derive INSIGHTS from both Structured and Unstructured data.\n",
    " \n",
    "Data Scientist - 'A jack of all trades and a master of some'"
   ]
  },
  {
   "cell_type": "markdown",
   "id": "dc18a655",
   "metadata": {},
   "source": [
    "# Laying the groundwork for a data science career\n",
    "\n",
    " - Have a good relevant degree: A solid educational background is required to a DStist. Pursue a DS degree in Statistics, Computer-Science, Mathematics & so on. A master degree in any of the above courses will be an added advantage.\n",
    " \n",
    " - Critical & Creative thinking: Creativity in DS is a must & very much needed in this field. You'll need it for creating a story line, for innovative modelling, for developing new tools, different ways to data collection and lots more. Finally, Critical thinking is very useful in DS as a DStist should be able to develop questions and question the data as well.\n",
    " \n",
    " - Required technical and non-technical skills: problem solving skills, Risk analysis and many more.\n",
    " \n",
    " - Good communication skills:having a strong command over your communication skills is very much needed in this field. the outcomes of dataset in Data science is very complicated and hard to explain. You'll have to translate your technical findings claerly and fluently into other things. You'll need good presentation skills, story-telling skills & listening skills. In short, make sure you build lasting relationships through your communication.\n",
    " \n",
    " \n",
    "# Different Roles in Data Science\n",
    "  - Data scientist,   -Data Engineer,   -Data Analyst\n",
    "  - Machine Learning Engineer,   -Machine Learning Scientist\n",
    "  - Statistician,   -Business Intelligence Developer \n",
    "  - Infrastructure Architect,   -Enterprise Architect,   -Applications Architect"
   ]
  },
  {
   "cell_type": "markdown",
   "id": "9821256c",
   "metadata": {},
   "source": [
    "# A short note on \"Who's a Data Scientist?\"\n",
    "\n",
    " Data Scientist is most-likely one of the most seasoning jobs among the lot. And now let's discuss about who is a Data scientist?\n",
    " \n",
    " - who is a Data scientist?\n",
    "In simple terms, a Data scientist is one who practices the art of Data science.\n",
    "a Data scientist analyses business data to extract meaningful insights. In others words, a Data scientist solves business problems through different methods. The term 'Data science' was coined by DJ patil & Jeff Hammerbacher.\n",
    "a Data scientist work typically revolves around Data.\n",
    "The Role of a Data scientist is the combination of Computer science, statistics & Mathematics\n",
    "\n",
    "   - Role of a Data scientist = Computer science + statistics + Mathematics"
   ]
  },
  {
   "cell_type": "markdown",
   "id": "32003eea",
   "metadata": {},
   "source": [
    "# In-Demand Technical Skills for Data Scientists\n",
    "\n",
    "To become a data scientist, you need various skills as mentioned earlier.Some of the significant technical skills you'll need to master include \n",
    "  \n",
    "  - PROGRAMMING: There are several programming languages for data scientist. Learning and Mastering atleast one of them is essential to realise various functions of data science but at the same time just a single language can solve problems in all areas. Python is most widely used langauage in the world today when it comes to data science. The next widely used language is R programming. If you're doing applied data science viz-viz, then you've got to learn python because that's the most valuable programming language for a data scientist. Some of the langauges includes -- JavaScript, Scala, SQL, Julia etc\n",
    "                           \n",
    "                           - PYTHON\n",
    "         Taking about python programming language, some of it's properties include\n",
    "         - It's Open source & easy-to-use langauge; you'll need to understand the basic syntax of this language initially.You'll need to how to write functions,loops & modules.You should be familiar with both OOPL[Object-Oriented Programming Language] & Function programming in python. It is a general purpose & dynamic  \n",
    "         - \n",
    "  \n",
    "  \n",
    "  - MACHINE LEARNING\n",
    "  - MATHEMATICS\n",
    "  - ANALYTICAL TOOLS\n",
    "  - DATA VISUALIZATION\n",
    "  - DATA WRANGLING\n",
    "  - BUSINESS ACUMEN\n"
   ]
  },
  {
   "cell_type": "code",
   "execution_count": 6,
   "id": "8762f1af",
   "metadata": {},
   "outputs": [
    {
     "name": "stdout",
     "output_type": "stream",
     "text": [
      "0.10906134417138824\n"
     ]
    }
   ],
   "source": [
    "import random\n",
    "\n",
    "r = random.random()\n",
    "print(r)"
   ]
  },
  {
   "cell_type": "code",
   "execution_count": 7,
   "id": "a417d5ab",
   "metadata": {},
   "outputs": [
    {
     "name": "stdout",
     "output_type": "stream",
     "text": [
      "What's the number? 60\n",
      "1\n"
     ]
    }
   ],
   "source": [
    "d_number = r\n",
    "d_number = int(input(\"What's the number? \"))\n",
    "\n",
    "if d_number < 0:\n",
    "   print(\"-1\")\n",
    "elif d_number == 0 :\n",
    "   print(\"0\")\n",
    "else:\n",
    "   print(\"1\")  "
   ]
  },
  {
   "cell_type": "code",
   "execution_count": null,
   "id": "8043b149",
   "metadata": {},
   "outputs": [],
   "source": []
  },
  {
   "cell_type": "code",
   "execution_count": null,
   "id": "c645f918",
   "metadata": {},
   "outputs": [],
   "source": []
  }
 ],
 "metadata": {
  "kernelspec": {
   "display_name": "Python 3 (ipykernel)",
   "language": "python",
   "name": "python3"
  },
  "language_info": {
   "codemirror_mode": {
    "name": "ipython",
    "version": 3
   },
   "file_extension": ".py",
   "mimetype": "text/x-python",
   "name": "python",
   "nbconvert_exporter": "python",
   "pygments_lexer": "ipython3",
   "version": "3.9.7"
  }
 },
 "nbformat": 4,
 "nbformat_minor": 5
}
